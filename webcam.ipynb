{
 "cells": [
  {
   "cell_type": "code",
   "execution_count": 1,
   "metadata": {},
   "outputs": [
    {
     "name": "stderr",
     "output_type": "stream",
     "text": [
      "c:\\Users\\jdts\\anaconda3\\envs\\emotionram\\lib\\site-packages\\tqdm\\auto.py:21: TqdmWarning: IProgress not found. Please update jupyter and ipywidgets. See https://ipywidgets.readthedocs.io/en/stable/user_install.html\n",
      "  from .autonotebook import tqdm as notebook_tqdm\n"
     ]
    }
   ],
   "source": [
    "import wandb\n",
    "import numpy as np\n",
    "import torch\n",
    "import cv2 as cv\n",
    "from torch.nn import CrossEntropyLoss\n",
    "from torch.utils.data import DataLoader\n",
    "from torch.optim import RMSprop\n",
    "from torch.optim.lr_scheduler import StepLR\n",
    "from data_loaders import CAERSDataset\n",
    "from utils import get_transform, accuracy, accuracy_julia\n",
    "from model import model_generator\n",
    "from tqdm import tqdm\n",
    "import os.path as osp\n",
    "from keras.models import load_model\n",
    "import os"
   ]
  },
  {
   "cell_type": "code",
   "execution_count": 13,
   "metadata": {},
   "outputs": [
    {
     "ename": "",
     "evalue": "",
     "output_type": "error",
     "traceback": [
      "\u001b[1;31mO Kernel falhou ao executar o código na célula atual ou em uma célula anterior. Examine o código nas células para identificar uma possível causa da falha. Clique <a href=\"https://aka.ms/vscodeJupyterKernelCrash\">aqui</a> para obter mais informações. Consulte o <a href='command:jupyter.viewOutput'>log</a> do Jupyter para obter mais detalhes."
     ]
    }
   ],
   "source": [
    "\n",
    "captura = cv.VideoCapture(0)\n",
    "model_path = '.\\models\\\\faces_19_95.01295733262594.pth'\n",
    "model = torch.load(model_path)\n",
    "\n",
    "device = torch.device(\"cuda:0\" if torch.cuda.is_available() else \"cpu\") ## Se a maquina não tiver GPU o teste será rodado na CPU\n",
    "\n",
    "\n",
    "model.to(device)\n",
    "loss = CrossEntropyLoss()\n",
    "opt = RMSprop(model.parameters(), lr=3e-3)\n",
    "lr_scheduler = StepLR(opt, 60, 0.4)\n",
    "\n",
    "best_model_acc = 0.0\n",
    "lowest_loss = 1\n",
    "count_ep = 0\n",
    "\n"
   ]
  },
  {
   "cell_type": "code",
   "execution_count": 5,
   "metadata": {},
   "outputs": [
    {
     "ename": "AttributeError",
     "evalue": "'numpy.ndarray' object has no attribute 'to'",
     "output_type": "error",
     "traceback": [
      "\u001b[1;31m---------------------------------------------------------------------------\u001b[0m",
      "\u001b[1;31mAttributeError\u001b[0m                            Traceback (most recent call last)",
      "Cell \u001b[1;32mIn[5], line 7\u001b[0m\n\u001b[0;32m      5\u001b[0m ret, frame \u001b[39m=\u001b[39m captura\u001b[39m.\u001b[39mread()\n\u001b[0;32m      6\u001b[0m face \u001b[39m=\u001b[39m frame\n\u001b[1;32m----> 7\u001b[0m preds \u001b[39m=\u001b[39m model(face\u001b[39m.\u001b[39;49mto(device))\n\u001b[0;32m      8\u001b[0m preds \u001b[39m=\u001b[39m preds\u001b[39m.\u001b[39mto(\u001b[39m'\u001b[39m\u001b[39mcpu\u001b[39m\u001b[39m'\u001b[39m)\n\u001b[0;32m      9\u001b[0m test_outs\u001b[39m.\u001b[39mextend(torch\u001b[39m.\u001b[39margmax(preds, dim\u001b[39m=\u001b[39m\u001b[39m1\u001b[39m))\u001b[39m##malu\u001b[39;00m\n",
      "\u001b[1;31mAttributeError\u001b[0m: 'numpy.ndarray' object has no attribute 'to'"
     ]
    }
   ],
   "source": [
    "model.eval() ## modo teste e validação\n",
    "test_outs, test_gts = [],[] ##malu\n",
    "with torch.no_grad():\n",
    "        while(1):\n",
    "                ret, frame = captura.read()\n",
    "                face = frame\n",
    "                preds = model(face.to(device))\n",
    "                preds = preds.to('cpu')\n",
    "                test_outs.extend(torch.argmax(preds, dim=1))##malu\n",
    "               "
   ]
  },
  {
   "cell_type": "code",
   "execution_count": 12,
   "metadata": {},
   "outputs": [
    {
     "name": "stdout",
     "output_type": "stream",
     "text": [
      "Number of detected faces: 1\n"
     ]
    },
    {
     "ename": "AttributeError",
     "evalue": "'numpy.ndarray' object has no attribute 'to'",
     "output_type": "error",
     "traceback": [
      "\u001b[1;31m---------------------------------------------------------------------------\u001b[0m",
      "\u001b[1;31mAttributeError\u001b[0m                            Traceback (most recent call last)",
      "Cell \u001b[1;32mIn[12], line 20\u001b[0m\n\u001b[0;32m     18\u001b[0m ret, frame \u001b[39m=\u001b[39m captura\u001b[39m.\u001b[39mread()\n\u001b[0;32m     19\u001b[0m face \u001b[39m=\u001b[39m frame\n\u001b[1;32m---> 20\u001b[0m preds \u001b[39m=\u001b[39m model(face\u001b[39m.\u001b[39;49mto(device))\n\u001b[0;32m     21\u001b[0m preds \u001b[39m=\u001b[39m preds\u001b[39m.\u001b[39mto(\u001b[39m'\u001b[39m\u001b[39mcpu\u001b[39m\u001b[39m'\u001b[39m)\n\u001b[0;32m     23\u001b[0m \u001b[39m# To draw a rectangle around the detected face  \u001b[39;00m\n",
      "\u001b[1;31mAttributeError\u001b[0m: 'numpy.ndarray' object has no attribute 'to'"
     ]
    }
   ],
   "source": [
    "while(1):\n",
    "\n",
    "    ret, frame = captura.read()\n",
    "    #cv.imshow(\"Video\", frame)\n",
    "    # convert to grayscale of each frames\n",
    "    gray = cv.cvtColor(frame, cv.COLOR_BGR2GRAY)\n",
    "\n",
    "        # read haacascade to detect faces in input image\n",
    "    face_cascade = cv.CascadeClassifier('haarcascade_frontalface_alt.xml')\n",
    "\n",
    "        # detects faces in the input image\n",
    "    faces = face_cascade.detectMultiScale(gray, 1.1, 2)\n",
    "    print('Number of detected faces:', len(faces))\\\n",
    "\n",
    "        # loop over all the detected faces\n",
    "    for (x,y,w,h) in faces:\n",
    "        \n",
    "        ret, frame = captura.read()\n",
    "        face = frame\n",
    "        preds = model(face.to(device))\n",
    "        preds = preds.to('cpu')\n",
    "               \n",
    "        # To draw a rectangle around the detected face  \n",
    "        image= cv.rectangle(frame,(x,y),(x+w,y+h),(0,255,255),2)\n",
    "        cv.putText(image,\"oi\", (x, y-10), cv.FONT_HERSHEY_SIMPLEX, 0.9, (36,255,12), 2)\n",
    "\n",
    "        # Display an image in a window\n",
    "        cv.imshow('Face Detection',image)\n",
    "\n",
    "        k = cv.waitKey(30) & 0xff\n",
    "        if k == 27:\n",
    "            break\n",
    "\n",
    "captura.release()\n",
    "cv.destroyAllWindows()"
   ]
  }
 ],
 "metadata": {
  "kernelspec": {
   "display_name": "emotionram",
   "language": "python",
   "name": "python3"
  },
  "language_info": {
   "codemirror_mode": {
    "name": "ipython",
    "version": 3
   },
   "file_extension": ".py",
   "mimetype": "text/x-python",
   "name": "python",
   "nbconvert_exporter": "python",
   "pygments_lexer": "ipython3",
   "version": "3.10.9"
  },
  "orig_nbformat": 4
 },
 "nbformat": 4,
 "nbformat_minor": 2
}
