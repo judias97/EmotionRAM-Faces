{
 "cells": [
  {
   "cell_type": "code",
   "execution_count": 13,
   "id": "c84fe28f",
   "metadata": {},
   "outputs": [],
   "source": [
    "import wandb\n",
    "import numpy as np\n",
    "import torch\n",
    "import cv2 as cv\n",
    "from torch.nn import CrossEntropyLoss\n",
    "from torch.utils.data import DataLoader\n",
    "from torch.optim import RMSprop\n",
    "from torch.optim.lr_scheduler import StepLR\n",
    "from data_loaders import CAERSDataset\n",
    "from utils import get_transform, accuracy, accuracy_julia\n",
    "from model import model_generator\n",
    "from tqdm import tqdm\n",
    "import os.path as osp\n",
    "from keras.models import load_model\n",
    "import pandas as pd\n",
    "import os"
   ]
  },
  {
   "cell_type": "code",
   "execution_count": 2,
   "id": "f15591bf",
   "metadata": {},
   "outputs": [],
   "source": [
    "model_path = '.\\models\\\\faces_19_95.01295733262594.pth'\n",
    "model = torch.load(model_path)\n"
   ]
  },
  {
   "cell_type": "code",
   "execution_count": 3,
   "id": "9be272cc",
   "metadata": {},
   "outputs": [],
   "source": [
    "device = torch.device(\"cuda:0\" if torch.cuda.is_available() else \"cpu\") ## Se a maquina não tiver GPU o teste será rodado na CPU\n",
    "\n",
    "test_dataset = CAERSDataset('data/CAER-S', 'data/test.txt', transforms=get_transform(train=False))\n",
    "\n",
    "test_dataloader = DataLoader(test_dataset, batch_size=32, shuffle=False)\n",
    "\n",
    "\n",
    "model.to(device)\n",
    "loss = CrossEntropyLoss()\n",
    "opt = RMSprop(model.parameters(), lr=3e-3)\n",
    "lr_scheduler = StepLR(opt, 60, 0.4)\n",
    "\n",
    "best_model_acc = 0.0\n",
    "lowest_loss = 1\n",
    "count_ep = 0"
   ]
  },
  {
   "cell_type": "code",
   "execution_count": 4,
   "id": "6f0c92c2",
   "metadata": {},
   "outputs": [
    {
     "name": "stderr",
     "output_type": "stream",
     "text": [
      "100%|██████████| 1532/1532 [12:22<00:00,  2.06it/s]\n"
     ]
    }
   ],
   "source": [
    "model.eval() ## modo teste e validação\n",
    "running_loss = 0.0\n",
    "test_outs, test_gts = [],[] ##malu\n",
    "\n",
    "with torch.no_grad():\n",
    "    with tqdm(total=len(test_dataloader), position=1, leave=True) as pbar_1:\n",
    "        for data, label in iter(test_dataloader):\n",
    "            face = data['face']\n",
    "\n",
    "            preds = model(face.to(device))\n",
    "            preds = preds.to('cpu')\n",
    "\n",
    "            running_loss = loss(preds, label)\n",
    "            test_outs.extend(torch.argmax(preds, dim=1))##malu\n",
    "            test_gts.extend(label.to('cpu'))##malu\n",
    "            pbar_1.update(1)\n",
    "            #image =  cv.imread(face)\n",
    "            #cv.imshow('teste',image)\n",
    "            #cv.waitkey(0)\n",
    "        \n",
    "            \n",
    "                   \n",
    "\n",
    "    test_acc = accuracy_julia(test_outs,test_gts)\n",
    "    #print(f'test :: acc {test_acc} :: loss {running_loss}')"
   ]
  },
  {
   "cell_type": "code",
   "execution_count": 26,
   "metadata": {},
   "outputs": [],
   "source": [
    "def set_emotion(label):\n",
    "\n",
    "    if label == '0' :\n",
    "        emotion = 'Angry'\n",
    "    elif label == '1':\n",
    "        emotion = 'Disgust'\n",
    "    elif label == '2':\n",
    "        emotion = 'Fear'\n",
    "    elif label == '3':\n",
    "        emotion = 'Happy'\n",
    "    elif label == '4':\n",
    "        emotion = 'Neutral'\n",
    "    elif label == '5':\n",
    "        emotion = 'Sad'\n",
    "    elif label == '6':\n",
    "        emotion = 'Surprise'\n",
    "    return emotion\n",
    "    "
   ]
  },
  {
   "cell_type": "code",
   "execution_count": 64,
   "id": "f9a58e4e",
   "metadata": {},
   "outputs": [
    {
     "name": "stdout",
     "output_type": "stream",
     "text": [
      "          Angry  Disgust  Fear  Happy  Neutral   Sad  Surprise\n",
      "Angry      6385       50     1     75      179   118       193\n",
      "Disgust      55     6772    11     36       37    27        63\n",
      "Fear         13       32  6742     42       64    46        62\n",
      "Happy         5       41     5   6804       75    20        51\n",
      "Neutral      55       43     6    266     6463    66       102\n",
      "Sad          18       58    13     75      106  6641        90\n",
      "Surprise     17        9     8     52      114    45      6756\n"
     ]
    }
   ],
   "source": [
    "value=0\n",
    "emotion = ''\n",
    "data = ('0','0','0','0','0','0','0')\n",
    "#emotions = [\"Angry\", \"Disgust\",\"Fear\", \"Happy\", \"Neutral\", \"Sad\", \"Surprise\"]\n",
    "emotions = ['Angry', 'Disgust','Fear','Happy','Neutral','Sad','Surprise']\n",
    "zero = [0, 0,0,0,0,0,0]\n",
    "d = {'Angry':zero, 'Disgust':zero,'Fear':zero,'Happy':zero,'Neutral':zero,'Sad':zero,'Surprise':zero}\n",
    "table= pd.DataFrame( data=d, index=emotions)\n",
    "#table= pd.DataFrame(data=table1,index= emotions, columns= emotions)\n",
    "\n",
    "\n",
    "#table.loc[\"Angry\", 'Angry']= 'oi'\n",
    "\n",
    "for i in range(len(test_outs)):\n",
    "    \n",
    "\n",
    "    preds = str(test_outs[i].numpy())\n",
    "    gt = str(test_gts[i].numpy())\n",
    "    emotion_Pred =str(set_emotion(preds))\n",
    "    emotion_gt =str(set_emotion(gt))\n",
    "    \n",
    "    table.loc [emotion_gt,emotion_Pred ] = int(table.loc [emotion_gt,emotion_Pred ]) +1\n",
    "    \n",
    "\n",
    "print(table)\n",
    "\n"
   ]
  },
  {
   "cell_type": "code",
   "execution_count": null,
   "id": "404e30b5",
   "metadata": {},
   "outputs": [],
   "source": [
    "for i in range(len(test_outs)):\n",
    "    \n",
    "\n",
    "    preds = str(test_outs[i].numpy())\n",
    "    emption_Pred =str(set_emotion(preds))\n",
    "    table.insert(int(test_gts[i]), emption_Pred, \"hi\", allow_duplicates=False )"
   ]
  },
  {
   "cell_type": "code",
   "execution_count": 5,
   "id": "eebde74c",
   "metadata": {},
   "outputs": [],
   "source": [
    "import os\n",
    "from urllib import request\n",
    "\n",
    "def salvar_imagem(imagem, nome_arquivo, pasta):\n",
    "    # Verifica se a pasta existe\n",
    "    if not os.path.exists(pasta):\n",
    "        # Cria a pasta se não existir\n",
    "        os.makedirs(pasta)\n",
    "\n",
    "    # Define o caminho completo para o arquivo\n",
    "    caminho_arquivo = os.path.join(pasta, nome_arquivo)\n",
    "\n",
    "    # Faz o download da imagem\n",
    "    #request.urlretrieve(url, caminho_arquivo)\n",
    "    cv.imwrite(caminho_arquivo,imagem)\n",
    "\n",
    "    print(f'A imagem {nome_arquivo} foi salva em {pasta}.')"
   ]
  },
  {
   "cell_type": "code",
   "execution_count": 10,
   "id": "e0bd7134",
   "metadata": {},
   "outputs": [
    {
     "ename": "AttributeError",
     "evalue": "'SVC' object has no attribute 'classes_'",
     "output_type": "error",
     "traceback": [
      "\u001b[1;31m---------------------------------------------------------------------------\u001b[0m",
      "\u001b[1;31mAttributeError\u001b[0m                            Traceback (most recent call last)",
      "Cell \u001b[1;32mIn[10], line 12\u001b[0m\n\u001b[0;32m      8\u001b[0m clf \u001b[39m=\u001b[39m SVC(random_state\u001b[39m=\u001b[39m\u001b[39m0\u001b[39m)\n\u001b[0;32m      9\u001b[0m \u001b[39m#clf.fit(test_outs,test_gts)\u001b[39;00m\n\u001b[0;32m     10\u001b[0m \n\u001b[0;32m     11\u001b[0m \u001b[39m#predictions = clf.predict(test_outs)\u001b[39;00m\n\u001b[1;32m---> 12\u001b[0m cm \u001b[39m=\u001b[39m confusion_matrix(test_gts, test_outs, labels\u001b[39m=\u001b[39mclf\u001b[39m.\u001b[39;49mclasses_)\n\u001b[0;32m     13\u001b[0m disp \u001b[39m=\u001b[39m ConfusionMatrixDisplay(confusion_matrix\u001b[39m=\u001b[39mcm,\n\u001b[0;32m     14\u001b[0m                               display_labels\u001b[39m=\u001b[39mclf\u001b[39m.\u001b[39mclasses_)\n\u001b[0;32m     15\u001b[0m disp\u001b[39m.\u001b[39mplot()\n",
      "\u001b[1;31mAttributeError\u001b[0m: 'SVC' object has no attribute 'classes_'"
     ]
    }
   ],
   "source": [
    "import matplotlib.pyplot as plt\n",
    "#from sklearn.datasets import make_classification\n",
    "from sklearn.metrics import confusion_matrix, ConfusionMatrixDisplay\n",
    "from sklearn.model_selection import train_test_split\n",
    "from sklearn.svm import SVC\n",
    "#X, y = make_classification(random_state=0)\n",
    "#X_train, X_test, y_train, y_test = train_test_split(X, y, random_state=0)\n",
    "clf = SVC(random_state=0)\n",
    "#clf.fit(test_outs,test_gts)\n",
    "\n",
    "#predictions = clf.predict(test_outs)\n",
    "cm = confusion_matrix(test_gts, test_outs, labels=clf.classes_)\n",
    "disp = ConfusionMatrixDisplay(confusion_matrix=cm,\n",
    "                              display_labels=clf.classes_)\n",
    "disp.plot()\n",
    "\n",
    "plt.show()"
   ]
  }
 ],
 "metadata": {
  "kernelspec": {
   "display_name": "Python 3 (ipykernel)",
   "language": "python",
   "name": "python3"
  },
  "language_info": {
   "codemirror_mode": {
    "name": "ipython",
    "version": 3
   },
   "file_extension": ".py",
   "mimetype": "text/x-python",
   "name": "python",
   "nbconvert_exporter": "python",
   "pygments_lexer": "ipython3",
   "version": "3.10.9"
  }
 },
 "nbformat": 4,
 "nbformat_minor": 5
}
